{
 "cells": [
  {
   "cell_type": "code",
   "execution_count": 3,
   "metadata": {},
   "outputs": [
    {
     "name": "stdout",
     "output_type": "stream",
     "text": [
      "\n",
      "Account Information:\n"
     ]
    },
    {
     "name": "stdout",
     "output_type": "stream",
     "text": [
      "Title: Dee\n",
      "Balance: 345.0\n",
      "\n",
      "Savings Account Information:\n",
      "Title: 34\n",
      "Balance: 23.0\n",
      "Interest Rate: 2.0\n"
     ]
    }
   ],
   "source": [
    "class Account:\n",
    "    def __init__(self, title=None, balance=0):\n",
    "        self.title = title\n",
    "        self.balance = balance\n",
    "\n",
    "    def set_account_info(self):\n",
    "        self.title = input(\"Enter account title: \")\n",
    "        self.balance = float(input(\"Enter account balance: \"))\n",
    "\n",
    "class SavingsAccount(Account):\n",
    "    def __init__(self, title=None, balance=0, interestRate=None):\n",
    "        super().__init__(title, balance)\n",
    "        self.interestRate = interestRate\n",
    "\n",
    "    def set_savings_account_info(self):\n",
    "        super().set_account_info()\n",
    "        self.interestRate = float(input(\"Enter interest rate: \"))\n",
    "\n",
    "\n",
    "\n",
    "print(\"\\nAccount Information:\")\n",
    "account = Account()\n",
    "account.set_account_info()\n",
    "\n",
    "print(f\"Title: {account.title}\")\n",
    "print(f\"Balance: {account.balance}\")\n",
    "\n",
    "\n",
    "print(\"\\nSavings Account Information:\")\n",
    "savings_account = SavingsAccount()\n",
    "savings_account.set_savings_account_info()\n",
    "\n",
    "print(f\"Title: {savings_account.title}\")\n",
    "print(f\"Balance: {savings_account.balance}\")\n",
    "print(f\"Interest Rate: {savings_account.interestRate}\")\n",
    "\n"
   ]
  }
 ],
 "metadata": {
  "kernelspec": {
   "display_name": "Python 3",
   "language": "python",
   "name": "python3"
  },
  "language_info": {
   "codemirror_mode": {
    "name": "ipython",
    "version": 3
   },
   "file_extension": ".py",
   "mimetype": "text/x-python",
   "name": "python",
   "nbconvert_exporter": "python",
   "pygments_lexer": "ipython3",
   "version": "3.11.4"
  },
  "orig_nbformat": 4
 },
 "nbformat": 4,
 "nbformat_minor": 2
}
